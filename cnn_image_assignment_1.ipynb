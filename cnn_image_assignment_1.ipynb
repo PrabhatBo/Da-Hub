{
 "cells": [
  {
   "cell_type": "code",
   "execution_count": 3,
   "id": "1e4b9c8f",
   "metadata": {},
   "outputs": [
    {
     "name": "stdout",
     "output_type": "stream",
     "text": [
      "WARNING:tensorflow:From C:\\ProgramData\\anaconda3\\Lib\\site-packages\\keras\\src\\losses.py:2976: The name tf.losses.sparse_softmax_cross_entropy is deprecated. Please use tf.compat.v1.losses.sparse_softmax_cross_entropy instead.\n",
      "\n"
     ]
    }
   ],
   "source": [
    "from keras.models import Sequential\n",
    "from keras.layers import Conv2D,MaxPool2D,Dense,Dropout\n",
    "from tensorflow.keras.utils import to_categorical\n",
    "import numpy as np\n",
    "import os\n",
    "import cv2"
   ]
  },
  {
   "cell_type": "code",
   "execution_count": 4,
   "id": "54c0ef04",
   "metadata": {},
   "outputs": [],
   "source": [
    "path1=r\"C:\\mask_and_nomask\"\n",
    "cate=['with_mask','without_mask']"
   ]
  },
  {
   "cell_type": "code",
   "execution_count": 5,
   "id": "4aeceeee",
   "metadata": {},
   "outputs": [],
   "source": [
    "input_image=[]\n",
    "image_size=200\n",
    "for i in cate:\n",
    "    folders=os.path.join(path1,i)\n",
    "    label=cate.index(i) # to tell software which image is cat and dog\n",
    "    for image in os.listdir(folders):\n",
    "        image_path=os.path.join(folders,image)\n",
    "        image_array=cv2.imread(image_path) # use cv2 to read and store image\n",
    "        image_array=cv2.resize(image_array,(image_size,image_size))\n",
    "        input_image.append([image_array,label])\n",
    "\n",
    "\n"
   ]
  },
  {
   "cell_type": "code",
   "execution_count": 6,
   "id": "f01f577b",
   "metadata": {},
   "outputs": [
    {
     "data": {
      "text/plain": [
       "7553"
      ]
     },
     "execution_count": 6,
     "metadata": {},
     "output_type": "execute_result"
    }
   ],
   "source": [
    "len(input_image)    #mask + no mask"
   ]
  },
  {
   "cell_type": "code",
   "execution_count": 22,
   "id": "00e3eb2b",
   "metadata": {},
   "outputs": [],
   "source": [
    "# np.random.shuffle(input_image) \n",
    "# add here code for shuffling\n",
    "# if you do shuffling then dont do train test sampling \n",
    "\n",
    "# x_train = X[0:7000]\n",
    "# x_test = X[7000:8833]\n",
    "\n",
    "# y_train = Y[0:7000]\n",
    "# y_test = Y[7000:8833]"
   ]
  },
  {
   "cell_type": "code",
   "execution_count": 23,
   "id": "2e7f3437",
   "metadata": {},
   "outputs": [],
   "source": []
  },
  {
   "cell_type": "code",
   "execution_count": 24,
   "id": "038fe91d",
   "metadata": {},
   "outputs": [],
   "source": [
    "X=[]\n",
    "Y=[]\n",
    "# separating x i.e pixels and labels will extract y separate\n",
    "for X_values,labels in input_image:\n",
    "    X.append(X_values)\n",
    "    Y.append(labels)"
   ]
  },
  {
   "cell_type": "code",
   "execution_count": 25,
   "id": "b653bdc8",
   "metadata": {},
   "outputs": [],
   "source": [
    "X=np.array(X)\n",
    "Y=np.array(Y)"
   ]
  },
  {
   "cell_type": "code",
   "execution_count": 9,
   "id": "4f357f38",
   "metadata": {},
   "outputs": [],
   "source": [
    "X=X/255"
   ]
  },
  {
   "cell_type": "code",
   "execution_count": 10,
   "id": "9a55c68b",
   "metadata": {},
   "outputs": [],
   "source": [
    "from sklearn.model_selection import train_test_split\n",
    "x_train,x_test,y_train,y_test=train_test_split(X,Y,test_size=0.2)"
   ]
  },
  {
   "cell_type": "code",
   "execution_count": 11,
   "id": "dae2f884",
   "metadata": {},
   "outputs": [],
   "source": [
    "from keras.layers import Conv2D, MaxPool2D, Flatten, Dense, Dropout\n"
   ]
  },
  {
   "cell_type": "code",
   "execution_count": 12,
   "id": "ca97c7b1",
   "metadata": {},
   "outputs": [
    {
     "name": "stdout",
     "output_type": "stream",
     "text": [
      "WARNING:tensorflow:From C:\\ProgramData\\anaconda3\\Lib\\site-packages\\keras\\src\\backend.py:873: The name tf.get_default_graph is deprecated. Please use tf.compat.v1.get_default_graph instead.\n",
      "\n",
      "WARNING:tensorflow:From C:\\ProgramData\\anaconda3\\Lib\\site-packages\\keras\\src\\layers\\pooling\\max_pooling2d.py:161: The name tf.nn.max_pool is deprecated. Please use tf.nn.max_pool2d instead.\n",
      "\n",
      "WARNING:tensorflow:From C:\\ProgramData\\anaconda3\\Lib\\site-packages\\keras\\src\\optimizers\\__init__.py:309: The name tf.train.Optimizer is deprecated. Please use tf.compat.v1.train.Optimizer instead.\n",
      "\n"
     ]
    }
   ],
   "source": [
    "model = Sequential()\n",
    "model.add(Conv2D(filters=16, kernel_size=(5, 5), activation='relu'))\n",
    "model.add(MaxPool2D(pool_size=(2, 2)))\n",
    "\n",
    "model.add(Flatten())\n",
    "model.add(Dense(128, activation='relu', input_shape = X.shape[1:]))\n",
    "\n",
    "model.add(Dense(2,activation='softmax'))\n",
    "\n",
    "model.compile(optimizer='adam',loss='sparse_categorical_crossentropy',metrics=['accuracy'])"
   ]
  },
  {
   "cell_type": "code",
   "execution_count": 13,
   "id": "0c10a4c1",
   "metadata": {},
   "outputs": [
    {
     "name": "stdout",
     "output_type": "stream",
     "text": [
      "Epoch 1/10\n",
      "WARNING:tensorflow:From C:\\ProgramData\\anaconda3\\Lib\\site-packages\\keras\\src\\utils\\tf_utils.py:492: The name tf.ragged.RaggedTensorValue is deprecated. Please use tf.compat.v1.ragged.RaggedTensorValue instead.\n",
      "\n",
      "WARNING:tensorflow:From C:\\ProgramData\\anaconda3\\Lib\\site-packages\\keras\\src\\engine\\base_layer_utils.py:384: The name tf.executing_eagerly_outside_functions is deprecated. Please use tf.compat.v1.executing_eagerly_outside_functions instead.\n",
      "\n",
      "76/76 [==============================] - 51s 608ms/step - loss: 2.0065 - accuracy: 0.7445 - val_loss: 0.3831 - val_accuracy: 0.8503\n",
      "Epoch 2/10\n",
      "76/76 [==============================] - 39s 509ms/step - loss: 0.2494 - accuracy: 0.9040 - val_loss: 0.2739 - val_accuracy: 0.9049\n",
      "Epoch 3/10\n",
      "76/76 [==============================] - 40s 525ms/step - loss: 0.1644 - accuracy: 0.9408 - val_loss: 0.2600 - val_accuracy: 0.9090\n",
      "Epoch 4/10\n",
      "76/76 [==============================] - 41s 534ms/step - loss: 0.1262 - accuracy: 0.9549 - val_loss: 0.3340 - val_accuracy: 0.8933\n",
      "Epoch 5/10\n",
      "76/76 [==============================] - 39s 510ms/step - loss: 0.0581 - accuracy: 0.9822 - val_loss: 0.3493 - val_accuracy: 0.9041\n",
      "Epoch 6/10\n",
      "76/76 [==============================] - 40s 528ms/step - loss: 0.0332 - accuracy: 0.9913 - val_loss: 0.4216 - val_accuracy: 0.8850\n",
      "Epoch 7/10\n",
      "76/76 [==============================] - 39s 518ms/step - loss: 0.0338 - accuracy: 0.9911 - val_loss: 0.4256 - val_accuracy: 0.8966\n",
      "Epoch 8/10\n",
      "76/76 [==============================] - 51s 677ms/step - loss: 0.0582 - accuracy: 0.9870 - val_loss: 0.4528 - val_accuracy: 0.8958\n",
      "Epoch 9/10\n",
      "76/76 [==============================] - 61s 804ms/step - loss: 0.0430 - accuracy: 0.9880 - val_loss: 0.3936 - val_accuracy: 0.9049\n",
      "Epoch 10/10\n",
      "76/76 [==============================] - 38s 503ms/step - loss: 0.0152 - accuracy: 0.9967 - val_loss: 0.5006 - val_accuracy: 0.9024\n"
     ]
    },
    {
     "data": {
      "text/plain": [
       "<keras.src.callbacks.History at 0x189bedd7dd0>"
      ]
     },
     "execution_count": 13,
     "metadata": {},
     "output_type": "execute_result"
    }
   ],
   "source": [
    "model.fit(x_train,y_train,validation_split=0.2,batch_size=64,epochs=10)"
   ]
  },
  {
   "cell_type": "code",
   "execution_count": 14,
   "id": "1092b828",
   "metadata": {},
   "outputs": [],
   "source": [
    "import pandas as pd"
   ]
  },
  {
   "cell_type": "code",
   "execution_count": 15,
   "id": "74181229",
   "metadata": {},
   "outputs": [
    {
     "data": {
      "text/html": [
       "<div>\n",
       "<style scoped>\n",
       "    .dataframe tbody tr th:only-of-type {\n",
       "        vertical-align: middle;\n",
       "    }\n",
       "\n",
       "    .dataframe tbody tr th {\n",
       "        vertical-align: top;\n",
       "    }\n",
       "\n",
       "    .dataframe thead th {\n",
       "        text-align: right;\n",
       "    }\n",
       "</style>\n",
       "<table border=\"1\" class=\"dataframe\">\n",
       "  <thead>\n",
       "    <tr style=\"text-align: right;\">\n",
       "      <th></th>\n",
       "      <th>loss</th>\n",
       "      <th>accuracy</th>\n",
       "      <th>val_loss</th>\n",
       "      <th>val_accuracy</th>\n",
       "    </tr>\n",
       "  </thead>\n",
       "  <tbody>\n",
       "    <tr>\n",
       "      <th>0</th>\n",
       "      <td>2.006462</td>\n",
       "      <td>0.744465</td>\n",
       "      <td>0.383071</td>\n",
       "      <td>0.850290</td>\n",
       "    </tr>\n",
       "    <tr>\n",
       "      <th>1</th>\n",
       "      <td>0.249385</td>\n",
       "      <td>0.903993</td>\n",
       "      <td>0.273873</td>\n",
       "      <td>0.904880</td>\n",
       "    </tr>\n",
       "    <tr>\n",
       "      <th>2</th>\n",
       "      <td>0.164389</td>\n",
       "      <td>0.940823</td>\n",
       "      <td>0.260007</td>\n",
       "      <td>0.909016</td>\n",
       "    </tr>\n",
       "    <tr>\n",
       "      <th>3</th>\n",
       "      <td>0.126193</td>\n",
       "      <td>0.954893</td>\n",
       "      <td>0.334008</td>\n",
       "      <td>0.893300</td>\n",
       "    </tr>\n",
       "    <tr>\n",
       "      <th>4</th>\n",
       "      <td>0.058115</td>\n",
       "      <td>0.982206</td>\n",
       "      <td>0.349311</td>\n",
       "      <td>0.904053</td>\n",
       "    </tr>\n",
       "    <tr>\n",
       "      <th>5</th>\n",
       "      <td>0.033218</td>\n",
       "      <td>0.991310</td>\n",
       "      <td>0.421566</td>\n",
       "      <td>0.885029</td>\n",
       "    </tr>\n",
       "    <tr>\n",
       "      <th>6</th>\n",
       "      <td>0.033754</td>\n",
       "      <td>0.991103</td>\n",
       "      <td>0.425641</td>\n",
       "      <td>0.896609</td>\n",
       "    </tr>\n",
       "    <tr>\n",
       "      <th>7</th>\n",
       "      <td>0.058187</td>\n",
       "      <td>0.986965</td>\n",
       "      <td>0.452750</td>\n",
       "      <td>0.895782</td>\n",
       "    </tr>\n",
       "    <tr>\n",
       "      <th>8</th>\n",
       "      <td>0.043016</td>\n",
       "      <td>0.987999</td>\n",
       "      <td>0.393559</td>\n",
       "      <td>0.904880</td>\n",
       "    </tr>\n",
       "    <tr>\n",
       "      <th>9</th>\n",
       "      <td>0.015170</td>\n",
       "      <td>0.996689</td>\n",
       "      <td>0.500564</td>\n",
       "      <td>0.902399</td>\n",
       "    </tr>\n",
       "  </tbody>\n",
       "</table>\n",
       "</div>"
      ],
      "text/plain": [
       "       loss  accuracy  val_loss  val_accuracy\n",
       "0  2.006462  0.744465  0.383071      0.850290\n",
       "1  0.249385  0.903993  0.273873      0.904880\n",
       "2  0.164389  0.940823  0.260007      0.909016\n",
       "3  0.126193  0.954893  0.334008      0.893300\n",
       "4  0.058115  0.982206  0.349311      0.904053\n",
       "5  0.033218  0.991310  0.421566      0.885029\n",
       "6  0.033754  0.991103  0.425641      0.896609\n",
       "7  0.058187  0.986965  0.452750      0.895782\n",
       "8  0.043016  0.987999  0.393559      0.904880\n",
       "9  0.015170  0.996689  0.500564      0.902399"
      ]
     },
     "execution_count": 15,
     "metadata": {},
     "output_type": "execute_result"
    }
   ],
   "source": [
    "df=pd.DataFrame(model.history.history)\n",
    "df# it's like a generator that runs one time and then disappears"
   ]
  },
  {
   "cell_type": "code",
   "execution_count": 16,
   "id": "b4710ad8",
   "metadata": {},
   "outputs": [
    {
     "name": "stdout",
     "output_type": "stream",
     "text": [
      "48/48 [==============================] - 4s 58ms/step\n"
     ]
    },
    {
     "data": {
      "text/plain": [
       "array([[9.9477345e-01, 5.2266279e-03],\n",
       "       [9.9999976e-01, 1.8821413e-07],\n",
       "       [2.3809425e-03, 9.9761909e-01],\n",
       "       ...,\n",
       "       [3.8123133e-05, 9.9996185e-01],\n",
       "       [9.8348355e-01, 1.6516453e-02],\n",
       "       [1.0000000e+00, 9.1247987e-09]], dtype=float32)"
      ]
     },
     "execution_count": 16,
     "metadata": {},
     "output_type": "execute_result"
    }
   ],
   "source": [
    "pred=model.predict(x_test)\n",
    "pred"
   ]
  },
  {
   "cell_type": "code",
   "execution_count": 17,
   "id": "843e5a02",
   "metadata": {},
   "outputs": [],
   "source": [
    "pred_classes=pred.argmax(axis=1)"
   ]
  },
  {
   "cell_type": "code",
   "execution_count": 18,
   "id": "c8c951c5",
   "metadata": {},
   "outputs": [],
   "source": [
    "from sklearn.metrics import confusion_matrix,classification_report"
   ]
  },
  {
   "cell_type": "code",
   "execution_count": 19,
   "id": "616dee45",
   "metadata": {},
   "outputs": [
    {
     "data": {
      "text/plain": [
       "array([[682,  74],\n",
       "       [ 90, 665]], dtype=int64)"
      ]
     },
     "execution_count": 19,
     "metadata": {},
     "output_type": "execute_result"
    }
   ],
   "source": [
    "cm=confusion_matrix(y_test,pred_classes)\n",
    "cm"
   ]
  },
  {
   "cell_type": "code",
   "execution_count": 21,
   "id": "9411a3fd",
   "metadata": {},
   "outputs": [
    {
     "name": "stdout",
     "output_type": "stream",
     "text": [
      "              precision    recall  f1-score   support\n",
      "\n",
      "           0       0.88      0.90      0.89       756\n",
      "           1       0.90      0.88      0.89       755\n",
      "\n",
      "    accuracy                           0.89      1511\n",
      "   macro avg       0.89      0.89      0.89      1511\n",
      "weighted avg       0.89      0.89      0.89      1511\n",
      "\n"
     ]
    }
   ],
   "source": [
    "from sklearn.metrics import classification_report\n",
    "print(classification_report(y_test,pred_classes))"
   ]
  },
  {
   "cell_type": "code",
   "execution_count": null,
   "id": "0cafeed4",
   "metadata": {},
   "outputs": [],
   "source": []
  }
 ],
 "metadata": {
  "kernelspec": {
   "display_name": "Python 3 (ipykernel)",
   "language": "python",
   "name": "python3"
  },
  "language_info": {
   "codemirror_mode": {
    "name": "ipython",
    "version": 3
   },
   "file_extension": ".py",
   "mimetype": "text/x-python",
   "name": "python",
   "nbconvert_exporter": "python",
   "pygments_lexer": "ipython3",
   "version": "3.11.4"
  }
 },
 "nbformat": 4,
 "nbformat_minor": 5
}
